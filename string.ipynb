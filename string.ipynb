{
 "metadata": {
  "language_info": {
   "codemirror_mode": {
    "name": "ipython",
    "version": 3
   },
   "file_extension": ".py",
   "mimetype": "text/x-python",
   "name": "python",
   "nbconvert_exporter": "python",
   "pygments_lexer": "ipython3",
   "version": "3.9.1"
  },
  "orig_nbformat": 2,
  "kernelspec": {
   "name": "python3",
   "display_name": "Python 3.9.1 64-bit",
   "metadata": {
    "interpreter": {
     "hash": "47cc910ea72a27971790772d5db981828032a4c33a4217c9b895e72ead097900"
    }
   }
  }
 },
 "nbformat": 4,
 "nbformat_minor": 2,
 "cells": [
  {
   "source": [
    "## string property\n",
    "-  indexed, ordered\n",
    "-  immutable - dont change during code execution \n",
    "-  str() - convert data to string datatype\n",
    "-  can be wrapped in '', \" \", ''' ''',\n",
    "-  triple quotes string can also be used in documentation "
   ],
   "cell_type": "markdown",
   "metadata": {}
  },
  {
   "cell_type": "code",
   "execution_count": 4,
   "metadata": {},
   "outputs": [],
   "source": [
    "flower = 'chrysanthemum'\n",
    "name  = 'vijay deenath chauhan '\n",
    "quote = ''' life before death,\n",
    "hope before despair,\n",
    "journey before destination'''"
   ]
  },
  {
   "cell_type": "code",
   "execution_count": 2,
   "metadata": {},
   "outputs": [
    {
     "output_type": "stream",
     "name": "stdout",
     "text": [
      "chrysanthemum\n"
     ]
    }
   ],
   "source": [
    "print(flower)"
   ]
  },
  {
   "cell_type": "code",
   "execution_count": 5,
   "metadata": {},
   "outputs": [
    {
     "output_type": "stream",
     "name": "stdout",
     "text": [
      " life before death,\nhope before despair,\njourney before destination\n"
     ]
    }
   ],
   "source": [
    "print(quote)"
   ]
  },
  {
   "source": [
    "### create, indexing, slicing, functions"
   ],
   "cell_type": "markdown",
   "metadata": {}
  },
  {
   "cell_type": "code",
   "execution_count": 6,
   "metadata": {},
   "outputs": [
    {
     "output_type": "execute_result",
     "data": {
      "text/plain": [
       "'c'"
      ]
     },
     "metadata": {},
     "execution_count": 6
    }
   ],
   "source": [
    "flower[0]"
   ]
  },
  {
   "cell_type": "code",
   "execution_count": 7,
   "metadata": {},
   "outputs": [
    {
     "output_type": "execute_result",
     "data": {
      "text/plain": [
       "'m'"
      ]
     },
     "metadata": {},
     "execution_count": 7
    }
   ],
   "source": [
    "flower[-1]"
   ]
  },
  {
   "cell_type": "code",
   "execution_count": 8,
   "metadata": {},
   "outputs": [
    {
     "output_type": "execute_result",
     "data": {
      "text/plain": [
       "'d'"
      ]
     },
     "metadata": {},
     "execution_count": 8
    }
   ],
   "source": [
    "name[6]"
   ]
  },
  {
   "cell_type": "code",
   "execution_count": 9,
   "metadata": {},
   "outputs": [
    {
     "output_type": "execute_result",
     "data": {
      "text/plain": [
       "'e'"
      ]
     },
     "metadata": {},
     "execution_count": 9
    }
   ],
   "source": [
    "quote[-17]"
   ]
  },
  {
   "cell_type": "code",
   "execution_count": 10,
   "metadata": {},
   "outputs": [
    {
     "output_type": "execute_result",
     "data": {
      "text/plain": [
       "'b'"
      ]
     },
     "metadata": {},
     "execution_count": 10
    }
   ],
   "source": [
    "quote[-18]"
   ]
  },
  {
   "source": [
    "# slicing\n"
   ],
   "cell_type": "markdown",
   "metadata": {}
  },
  {
   "cell_type": "code",
   "execution_count": 11,
   "metadata": {},
   "outputs": [
    {
     "output_type": "execute_result",
     "data": {
      "text/plain": [
       "'chrys'"
      ]
     },
     "metadata": {},
     "execution_count": 11
    }
   ],
   "source": [
    "flower[:5]"
   ]
  },
  {
   "cell_type": "code",
   "execution_count": 12,
   "metadata": {},
   "outputs": [
    {
     "output_type": "execute_result",
     "data": {
      "text/plain": [
       "'mum'"
      ]
     },
     "metadata": {},
     "execution_count": 12
    }
   ],
   "source": [
    "flower[-3:]"
   ]
  },
  {
   "cell_type": "code",
   "execution_count": 16,
   "metadata": {},
   "outputs": [
    {
     "output_type": "execute_result",
     "data": {
      "text/plain": [
       "'the'"
      ]
     },
     "metadata": {},
     "execution_count": 16
    }
   ],
   "source": [
    "flower[-6:-3]"
   ]
  },
  {
   "cell_type": "code",
   "execution_count": 21,
   "metadata": {},
   "outputs": [
    {
     "output_type": "execute_result",
     "data": {
      "text/plain": [
       "'vijay '"
      ]
     },
     "metadata": {},
     "execution_count": 21
    }
   ],
   "source": [
    "name[0:6]"
   ]
  },
  {
   "cell_type": "code",
   "execution_count": 22,
   "metadata": {},
   "outputs": [
    {
     "output_type": "stream",
     "name": "stdout",
     "text": [
      "0 v\n1 i\n2 j\n3 a\n4 y\n5  \n6 d\n7 e\n8 e\n9 n\n10 a\n11 t\n12 h\n13  \n14 c\n15 h\n16 a\n17 u\n18 h\n19 a\n20 n\n21  \n"
     ]
    }
   ],
   "source": [
    "for i,v in enumerate(name):\n",
    "    print(i,v)"
   ]
  },
  {
   "cell_type": "code",
   "execution_count": 26,
   "metadata": {},
   "outputs": [
    {
     "output_type": "stream",
     "name": "stdout",
     "text": [
      "vijay \ndeenath\nchauhan\n"
     ]
    }
   ],
   "source": [
    "print(name[0:6])\n",
    "print(name[6:13])\n",
    "print(name[14:21])"
   ]
  },
  {
   "cell_type": "code",
   "execution_count": 29,
   "metadata": {},
   "outputs": [
    {
     "output_type": "execute_result",
     "data": {
      "text/plain": [
       "41"
      ]
     },
     "metadata": {},
     "execution_count": 29
    }
   ],
   "source": [
    "quote.find('journey')"
   ]
  },
  {
   "cell_type": "code",
   "execution_count": 31,
   "metadata": {},
   "outputs": [
    {
     "output_type": "execute_result",
     "data": {
      "text/plain": [
       "'journey before destination'"
      ]
     },
     "metadata": {},
     "execution_count": 31
    }
   ],
   "source": [
    "quote[41:]"
   ]
  },
  {
   "source": [
    "# functions in string"
   ],
   "cell_type": "markdown",
   "metadata": {}
  },
  {
   "cell_type": "code",
   "execution_count": 1,
   "metadata": {},
   "outputs": [],
   "source": [
    "sentence = 'I went to vijaywada to have a holiday.'"
   ]
  },
  {
   "cell_type": "code",
   "execution_count": 2,
   "metadata": {},
   "outputs": [
    {
     "output_type": "execute_result",
     "data": {
      "text/plain": [
       "'I WENT TO VIJAYWADA TO HAVE A HOLIDAY.'"
      ]
     },
     "metadata": {},
     "execution_count": 2
    }
   ],
   "source": [
    "sentence.upper()\n"
   ]
  },
  {
   "cell_type": "code",
   "execution_count": 3,
   "metadata": {},
   "outputs": [],
   "source": [
    "senu = sentence.upper()"
   ]
  },
  {
   "cell_type": "code",
   "execution_count": 4,
   "metadata": {},
   "outputs": [],
   "source": [
    "senl = sentence.lower()"
   ]
  },
  {
   "cell_type": "code",
   "execution_count": 5,
   "metadata": {},
   "outputs": [],
   "source": [
    "senc = sentence.capitalize()\n",
    "sent = sentence.title()"
   ]
  },
  {
   "cell_type": "code",
   "execution_count": 6,
   "metadata": {},
   "outputs": [
    {
     "output_type": "execute_result",
     "data": {
      "text/plain": [
       "'i went to vijaywada to have a holiday.'"
      ]
     },
     "metadata": {},
     "execution_count": 6
    }
   ],
   "source": [
    "sentence.casefold()\n"
   ]
  },
  {
   "cell_type": "code",
   "execution_count": 8,
   "metadata": {},
   "outputs": [
    {
     "output_type": "execute_result",
     "data": {
      "text/plain": [
       "'i WENT TO VIJAYWADA TO HAVE A HOLIDAY.'"
      ]
     },
     "metadata": {},
     "execution_count": 8
    }
   ],
   "source": [
    "sentence.swapcase()"
   ]
  },
  {
   "cell_type": "code",
   "execution_count": 9,
   "metadata": {},
   "outputs": [],
   "source": [
    "word = 'solid'"
   ]
  },
  {
   "cell_type": "code",
   "execution_count": 10,
   "metadata": {},
   "outputs": [
    {
     "output_type": "execute_result",
     "data": {
      "text/plain": [
       "'                                             solid'"
      ]
     },
     "metadata": {},
     "execution_count": 10
    }
   ],
   "source": [
    "word.rjust(50)"
   ]
  },
  {
   "cell_type": "code",
   "execution_count": 11,
   "metadata": {},
   "outputs": [
    {
     "output_type": "execute_result",
     "data": {
      "text/plain": [
       "'solid                                             '"
      ]
     },
     "metadata": {},
     "execution_count": 11
    }
   ],
   "source": [
    "word.ljust(50)"
   ]
  },
  {
   "cell_type": "code",
   "execution_count": 12,
   "metadata": {},
   "outputs": [
    {
     "output_type": "execute_result",
     "data": {
      "text/plain": [
       "'         solid          '"
      ]
     },
     "metadata": {},
     "execution_count": 12
    }
   ],
   "source": [
    "word.center(24)"
   ]
  },
  {
   "cell_type": "code",
   "execution_count": 14,
   "metadata": {},
   "outputs": [
    {
     "output_type": "execute_result",
     "data": {
      "text/plain": [
       "5"
      ]
     },
     "metadata": {},
     "execution_count": 14
    }
   ],
   "source": [
    "len(\"solid\")"
   ]
  },
  {
   "cell_type": "code",
   "execution_count": 16,
   "metadata": {},
   "outputs": [
    {
     "output_type": "stream",
     "name": "stdout",
     "text": [
      "0\n000\n00000\n0000000\n000000000\n00000000000\n0000000000000\n"
     ]
    }
   ],
   "source": [
    "for i in range(1,15,2):\n",
    "    print('0' *i)"
   ]
  },
  {
   "cell_type": "code",
   "execution_count": 17,
   "metadata": {},
   "outputs": [
    {
     "output_type": "stream",
     "name": "stdout",
     "text": [
      "       0       \n      000      \n     00000     \n    0000000    \n   000000000   \n  00000000000  \n 0000000000000 \n"
     ]
    }
   ],
   "source": [
    "for i in range(1,15,2):\n",
    "    print(('0' *i).center(15))"
   ]
  },
  {
   "cell_type": "code",
   "execution_count": 20,
   "metadata": {},
   "outputs": [
    {
     "output_type": "execute_result",
     "data": {
      "text/plain": [
       "True"
      ]
     },
     "metadata": {},
     "execution_count": 20
    }
   ],
   "source": [
    "word.isalpha()"
   ]
  },
  {
   "cell_type": "code",
   "execution_count": 21,
   "metadata": {},
   "outputs": [
    {
     "output_type": "execute_result",
     "data": {
      "text/plain": [
       "False"
      ]
     },
     "metadata": {},
     "execution_count": 21
    }
   ],
   "source": [
    "word.isnumeric()"
   ]
  },
  {
   "cell_type": "code",
   "execution_count": 23,
   "metadata": {},
   "outputs": [],
   "source": [
    "a=\"123456\""
   ]
  },
  {
   "cell_type": "code",
   "execution_count": 24,
   "metadata": {},
   "outputs": [
    {
     "output_type": "execute_result",
     "data": {
      "text/plain": [
       "True"
      ]
     },
     "metadata": {},
     "execution_count": 24
    }
   ],
   "source": [
    "a.isnumeric()"
   ]
  },
  {
   "cell_type": "code",
   "execution_count": 25,
   "metadata": {},
   "outputs": [
    {
     "output_type": "stream",
     "name": "stdout",
     "text": [
      "good boy\n"
     ]
    }
   ],
   "source": [
    "x = input('enter a number')\n",
    "if x.isnumeric():\n",
    "    print('good boy')\n",
    "    x = int(x)\n",
    "else:\n",
    "    print('wrong input')    "
   ]
  },
  {
   "source": [
    "# important functions"
   ],
   "cell_type": "markdown",
   "metadata": {}
  },
  {
   "cell_type": "code",
   "execution_count": 26,
   "metadata": {},
   "outputs": [],
   "source": [
    "quote = 'life before death, hope before despair, journey before destination'"
   ]
  },
  {
   "cell_type": "code",
   "execution_count": 30,
   "metadata": {},
   "outputs": [
    {
     "output_type": "stream",
     "name": "stdout",
     "text": [
      "['life', 'before', 'death,', 'hope', 'before', 'despair,', 'journey', 'before', 'destination']\n"
     ]
    }
   ],
   "source": [
    "words = quote.split()\n",
    "print(words)"
   ]
  },
  {
   "cell_type": "code",
   "execution_count": 31,
   "metadata": {},
   "outputs": [
    {
     "output_type": "execute_result",
     "data": {
      "text/plain": [
       "9"
      ]
     },
     "metadata": {},
     "execution_count": 31
    }
   ],
   "source": [
    "len(words)"
   ]
  },
  {
   "cell_type": "code",
   "execution_count": 32,
   "metadata": {},
   "outputs": [
    {
     "output_type": "execute_result",
     "data": {
      "text/plain": [
       "['life before death', ' hope before despair', ' journey before destination']"
      ]
     },
     "metadata": {},
     "execution_count": 32
    }
   ],
   "source": [
    "quote.split(',')"
   ]
  },
  {
   "cell_type": "code",
   "execution_count": 33,
   "metadata": {},
   "outputs": [
    {
     "output_type": "execute_result",
     "data": {
      "text/plain": [
       "['life ', ' death, hope ', ' despair, journey ', ' destination']"
      ]
     },
     "metadata": {},
     "execution_count": 33
    }
   ],
   "source": [
    "quote.split('before')"
   ]
  },
  {
   "cell_type": "code",
   "execution_count": 34,
   "metadata": {},
   "outputs": [],
   "source": [
    "wiki ='''\n",
    "Elon Reeve Musk was born on June 28, 1971, in Pretoria, Transvaal, South Africa. His mother is Maye Musk (née Haldeman), a model and dietitian born in Saskatchewan, Canada, but raised in South Africa. His father is Errol Musk, a South African electromechanical engineer, pilot, sailor, consultant, and property developer'''\n",
    "\n"
   ]
  },
  {
   "cell_type": "code",
   "execution_count": 36,
   "metadata": {},
   "outputs": [
    {
     "output_type": "stream",
     "name": "stdout",
     "text": [
      "Elon              4\nReeve             5\nMusk              4\nwas               3\nborn              4\non                2\nJune              4\n28,               3\n1971,             5\nin                2\nPretoria,         9\nTransvaal,        10\nSouth             5\nAfrica.           7\nHis               3\nmother            6\nis                2\nMaye              4\nMusk              4\n(née              4\nHaldeman),        10\na                 1\nmodel             5\nand               3\ndietitian         9\nborn              4\nin                2\nSaskatchewan,     13\nCanada,           7\nbut               3\nraised            6\nin                2\nSouth             5\nAfrica.           7\nHis               3\nfather            6\nis                2\nErrol             5\nMusk,             5\na                 1\nSouth             5\nAfrican           7\nelectromechanical 17\nengineer,         9\npilot,            6\nsailor,           7\nconsultant,       11\nand               3\nproperty          8\ndeveloper         9\n"
     ]
    }
   ],
   "source": [
    "for word in wiki.split():\n",
    "    print(word.ljust(17), len(word))"
   ]
  },
  {
   "cell_type": "code",
   "execution_count": 38,
   "metadata": {},
   "outputs": [
    {
     "output_type": "stream",
     "name": "stdout",
     "text": [
      "electromechanical 17\n"
     ]
    }
   ],
   "source": [
    "largest = ''\n",
    "for word in wiki.split():\n",
    "    if len(largest)< len(word):\n",
    "        largest = word\n",
    "print(largest, len(largest))       "
   ]
  },
  {
   "cell_type": "code",
   "execution_count": 40,
   "metadata": {},
   "outputs": [
    {
     "output_type": "execute_result",
     "data": {
      "text/plain": [
       "'\\nElkkkReeve Musk was born kkkJune 28, 1971, in Pretoria, Transvaal, South Africa. His mother is Maye Musk (née Haldeman), a model and dietitian born in Saskatchewan, Canada, but raised in South Africa. His father is Errol Musk, a South African electromechanical engineer, pilot, sailor, consultant, and property developer'"
      ]
     },
     "metadata": {},
     "execution_count": 40
    }
   ],
   "source": [
    "wiki.replace('on ', 'kkk')"
   ]
  },
  {
   "cell_type": "code",
   "execution_count": 41,
   "metadata": {},
   "outputs": [
    {
     "output_type": "execute_result",
     "data": {
      "text/plain": [
       "'\\nElon Reeve Musk was born on June 28, 1971, in Pretoria, Transvaal, South Africa. His mother is Maye Musk (née Haldeman), a model and dietitian born in Saskatchewan, Canada, but raised in South Africa. His father is Errol Musk, a South African electromechanical engineer, pilot, sailor, consultant, and property developer'"
      ]
     },
     "metadata": {},
     "execution_count": 41
    }
   ],
   "source": [
    "wiki.replace('canada','idiot')"
   ]
  },
  {
   "cell_type": "code",
   "execution_count": 44,
   "metadata": {},
   "outputs": [
    {
     "output_type": "execute_result",
     "data": {
      "text/plain": [
       "'\\nElon Reeve Musk was born on June 28, 1971, out Preenria, Transvaal, South Africa. His mother is Maye Musk (née Haldeman), a model and dietitian born out Saskatchewan, Canada, but raised out South Africa. His father is Errol Musk, a South African electromechanical engouteer, pilot, sailor, consultant, and property developer'"
      ]
     },
     "metadata": {},
     "execution_count": 44
    }
   ],
   "source": [
    "wiki.replace('to', 'en').replace('in','out')"
   ]
  },
  {
   "cell_type": "code",
   "execution_count": 48,
   "metadata": {},
   "outputs": [],
   "source": [
    "newwiki = wiki.replace('is','are')"
   ]
  },
  {
   "cell_type": "code",
   "execution_count": 49,
   "metadata": {},
   "outputs": [
    {
     "output_type": "execute_result",
     "data": {
      "text/plain": [
       "'\\nElon Reeve Musk was born on June 28, 1971, in Pretoria, Transvaal, South Africa. Hare mother are Maye Musk (née Haldeman), a model and dietitian born in Saskatchewan, Canada, but raareed in South Africa. Hare father are Errol Musk, a South African electromechanical engineer, pilot, sailor, consultant, and property developer'"
      ]
     },
     "metadata": {},
     "execution_count": 49
    }
   ],
   "source": [
    "newwiki"
   ]
  },
  {
   "cell_type": "code",
   "execution_count": null,
   "metadata": {},
   "outputs": [],
   "source": []
  }
 ]
}